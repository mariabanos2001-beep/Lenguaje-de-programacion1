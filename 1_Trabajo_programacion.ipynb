{
  "nbformat": 4,
  "nbformat_minor": 0,
  "metadata": {
    "colab": {
      "provenance": []
    },
    "kernelspec": {
      "name": "python3",
      "display_name": "Python 3"
    },
    "language_info": {
      "name": "python"
    }
  },
  "cells": [
    {
      "cell_type": "code",
      "execution_count": null,
      "metadata": {
        "id": "ykqWLxGbjiph"
      },
      "outputs": [],
      "source": [
        "# Análisis Financiero: Valor Presente Neto (VPN)\n",
        "\n",
        "El **Valor Presente Neto (VPN)** es una herramienta fundamental en finanzas para evaluar\n",
        "la conveniencia de llevar a cabo un proyecto de inversión. Su cálculo consiste en traer\n",
        "a valor presente los flujos de caja futuros, aplicando una tasa de descuento que refleja\n",
        "el costo de oportunidad o el riesgo, y restando la inversión inicial.\n",
        "\n",
        "- Si el **VPN > 0** → El proyecto genera valor y se recomienda su ejecución.\n",
        "- Si el **VPN < 0** → El proyecto no es rentable y debería descartarse.\n",
        "- Si el **VPN = 0** → El proyecto apenas recupera lo invertido, sin generar utilidad.\n"
      ]
    },
    {
      "cell_type": "markdown",
      "source": [
        "## Fórmula del Valor Presente Neto\n",
        "\n",
        "La expresión matemática del VPN es la siguiente:\n",
        "\n",
        "\\[\n",
        "VPN = \\sum_{t=1}^{n} \\frac{C_t}{(1+r)^t} - C_0\n",
        "\\]\n",
        "\n",
        "Donde:\n",
        "\n",
        "- \\( C_t \\): Flujo de caja en el periodo \\( t \\)  \n",
        "- \\( r \\): Tasa de descuento  \n",
        "- \\( n \\): Número de periodos  \n",
        "- \\( C_0 \\): Inversión inicial  \n"
      ],
      "metadata": {
        "id": "8pnmK146jxgn"
      }
    },
    {
      "cell_type": "markdown",
      "source": [
        "## Planteamiento del Proyecto\n",
        "\n",
        "Una empresa está considerando una inversión inicial de **$10,000**.  \n",
        "Se espera que el proyecto genere flujos de caja de **$3,000** anuales\n",
        "durante los próximos **3 años**.  \n",
        "\n",
        "La tasa de descuento considerada es del **5% anual**.  \n",
        "\n",
        "El objetivo es calcular el **VPN** y determinar si el proyecto es **viable o no**.  \n"
      ],
      "metadata": {
        "id": "wmAI72vCj794"
      }
    },
    {
      "cell_type": "code",
      "source": [
        "# Declaración de variables\n",
        "inversion_inicial = 10000\n",
        "flujo_ano_1 = 3000\n",
        "flujo_ano_2 = 3000\n",
        "flujo_ano_3 = 3000\n",
        "tasa_descuento = 0.05\n"
      ],
      "metadata": {
        "id": "1bJgLBJlkFjY"
      },
      "execution_count": 1,
      "outputs": []
    },
    {
      "cell_type": "code",
      "source": [
        "# Cálculo del Valor Presente Neto\n",
        "vpn = (flujo_ano_1 / (1 + tasa_descuento)**1) + \\\n",
        "      (flujo_ano_2 / (1 + tasa_descuento)**2) + \\\n",
        "      (flujo_ano_3 / (1 + tasa_descuento)**3) - inversion_inicial\n",
        "\n",
        "print(\"El Valor Presente Neto (VPN) es:\", round(vpn, 2))\n"
      ],
      "metadata": {
        "colab": {
          "base_uri": "https://localhost:8080/"
        },
        "id": "iOxQOoj4kKHd",
        "outputId": "49f899d8-e317-4716-d2ef-fbdbd03e16d3"
      },
      "execution_count": 2,
      "outputs": [
        {
          "output_type": "stream",
          "name": "stdout",
          "text": [
            "El Valor Presente Neto (VPN) es: -1830.26\n"
          ]
        }
      ]
    },
    {
      "cell_type": "code",
      "source": [
        "# Interpretación del VPN\n",
        "if vpn > 0:\n",
        "    print(\" El proyecto es viable, ya que el VPN es positivo.\")\n",
        "elif vpn < 0:\n",
        "    print(\" El proyecto no es viable, ya que el VPN es negativo.\")\n",
        "else:\n",
        "    print(\" El proyecto es indiferente, ya que el VPN es cero.\")\n"
      ],
      "metadata": {
        "colab": {
          "base_uri": "https://localhost:8080/"
        },
        "id": "tR-ThuB6kSw-",
        "outputId": "eae979da-42d3-442c-db15-d0ce54cbea3c"
      },
      "execution_count": 3,
      "outputs": [
        {
          "output_type": "stream",
          "name": "stdout",
          "text": [
            " El proyecto no es viable, ya que el VPN es negativo.\n"
          ]
        }
      ]
    },
    {
      "cell_type": "markdown",
      "source": [],
      "metadata": {
        "id": "Jz1pFNxPjspZ"
      }
    }
  ]
}